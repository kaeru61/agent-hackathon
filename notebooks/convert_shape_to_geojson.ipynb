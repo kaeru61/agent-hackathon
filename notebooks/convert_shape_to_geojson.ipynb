{
 "cells": [
  {
   "cell_type": "code",
   "execution_count": 14,
   "metadata": {
    "vscode": {
     "languageId": "ruby"
    }
   },
   "outputs": [],
   "source": [
    "import geopandas as gpd\n",
    "\n",
    "# Shapefile path\n",
    "shapefile_path = '../src/models/area_optimization/data/raw/shp/MA0001_2020_2020_08/rcom.shp'\n",
    "\n",
    "# Read the shapefile\n",
    "gdf = gpd.read_file(shapefile_path)\n",
    "\n",
    "# Convert to GeoJSON\n",
    "geojson = gdf.to_json()\n",
    "\n",
    "# Save GeoJSON to file\n",
    "geojson_path = '../src/models/area_optimization/data/processed/geojson/rcom.geojson'\n",
    "with open(geojson_path, 'w') as f:\n",
    "    f.write(geojson)"
   ]
  },
  {
   "cell_type": "code",
   "execution_count": null,
   "metadata": {
    "vscode": {
     "languageId": "ruby"
    }
   },
   "outputs": [],
   "source": [
    "!pip install chardet"
   ]
  },
  {
   "cell_type": "code",
   "execution_count": null,
   "metadata": {},
   "outputs": [
    {
     "name": "stdout",
     "output_type": "stream",
     "text": [
      "検出された文字コード: ascii\n",
      "ファイルを保存しました: ../src/models/area_optimization/data/processed/geojson/rcom_decoded.geojson\n",
      "データのデコードに成功しました\n"
     ]
    }
   ],
   "source": [
    "import json\n",
    "import chardet\n",
    "\n",
    "def decode_sjis_text(text):\n",
    "    \"\"\"Shift-JISでエンコードされた文字列をデコードする\"\"\"\n",
    "    try:\n",
    "        return bytes(text, 'latin1').decode('shift-jis')\n",
    "    except UnicodeDecodeError:\n",
    "        return text\n",
    "\n",
    "def decode_geojson_file(input_path: str, output_path: str = None) -> dict:\n",
    "    \"\"\"\n",
    "    GeoJSONファイルを読み込んでデコードする関数\n",
    "    \n",
    "    Args:\n",
    "        input_path (str): 入力GeoJSONファイルのパス\n",
    "        output_path (str, optional): 出力ファイルのパス。指定しない場合は保存しない\n",
    "    \n",
    "    Returns:\n",
    "        dict: デコードされたGeoJSONデータ\n",
    "    \"\"\"\n",
    "    # エンコーディング候補\n",
    "    encodings = [\n",
    "        'shift-jis',      # Windows日本語\n",
    "        'utf-8'           # UTF-8\n",
    "    ]\n",
    "    \n",
    "    # ファイルの文字コードを自動検出\n",
    "    with open(input_path, 'rb') as f:\n",
    "        raw_data = f.read()\n",
    "        detected = chardet.detect(raw_data)\n",
    "        encodings.insert(0, detected['encoding'])\n",
    "    \n",
    "    for encoding in encodings:\n",
    "        try:\n",
    "            with open(input_path, 'r', encoding=encoding) as f:\n",
    "                content = f.read()\n",
    "                data = json.loads(content)\n",
    "                \n",
    "                # GeoJSON形式の検証\n",
    "                if not isinstance(data, dict) or data.get('type') != 'FeatureCollection':\n",
    "                    continue\n",
    "                \n",
    "                # 日本語文字列のデコード処理\n",
    "                for feature in data['features']:\n",
    "                    props = feature.get('properties', {})\n",
    "                    # 特定のキーの文字列をShift-JISでデコード\n",
    "                    for key in ['PREF_NAME', 'CITY_NAME', 'KCITY_NAME', 'RCOM_NAME', 'RCOM_KANA']:\n",
    "                        if key in props and isinstance(props[key], str):\n",
    "                            props[key] = decode_sjis_text(props[key])\n",
    "                \n",
    "                # 文字化けチェック\n",
    "                has_encoding_error = False\n",
    "                for feature in data['features']:\n",
    "                    props = feature.get('properties', {})\n",
    "                    for value in props.values():\n",
    "                        if isinstance(value, str):\n",
    "                            if any(c in value for c in ['�', '?', '\\ufffd']):\n",
    "                                has_encoding_error = True\n",
    "                                break\n",
    "                    if has_encoding_error:\n",
    "                        break\n",
    "                \n",
    "                if not has_encoding_error:\n",
    "                    print(f\"検出された文字コード: {encoding}\")\n",
    "                    \n",
    "                    # 出力パスが指定されている場合は保存\n",
    "                    if output_path:\n",
    "                        with open(output_path, 'w', encoding='utf-8') as f:\n",
    "                            json.dump(data, f, ensure_ascii=False, indent=2)\n",
    "                        print(f\"ファイルを保存しました: {output_path}\")\n",
    "                    \n",
    "                    return data\n",
    "                \n",
    "        except (UnicodeDecodeError, json.JSONDecodeError):\n",
    "            continue\n",
    "    \n",
    "    raise ValueError(\"適切な文字コードでデコードできませんでした。\")\n",
    "\n",
    "# 使用例\n",
    "input_path = '../src/models/area_optimization/data/processed/geojson/rcom.geojson'\n",
    "output_path = '../src/models/area_optimization/data/processed/geojson/rcom_decoded.geojson'\n",
    "\n",
    "try:\n",
    "    decoded_data = decode_geojson_file(input_path, output_path)\n",
    "    print(\"データのデコードに成功しました\")\n",
    "except Exception as e:\n",
    "    print(f\"エラーが発生しました: {str(e)}\")"
   ]
  }
 ],
 "metadata": {
  "kernelspec": {
   "display_name": "myenv",
   "language": "python",
   "name": "python3"
  },
  "language_info": {
   "codemirror_mode": {
    "name": "ipython",
    "version": 3
   },
   "file_extension": ".py",
   "mimetype": "text/x-python",
   "name": "python",
   "nbconvert_exporter": "python",
   "pygments_lexer": "ipython3",
   "version": "3.13.1"
  }
 },
 "nbformat": 4,
 "nbformat_minor": 2
}
