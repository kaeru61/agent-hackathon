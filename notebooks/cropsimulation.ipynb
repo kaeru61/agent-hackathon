{
 "cells": [
  {
   "cell_type": "code",
   "execution_count": 13,
   "metadata": {},
   "outputs": [],
   "source": [
    "import pcse\n",
    "import pandas as pd"
   ]
  },
  {
   "cell_type": "code",
   "execution_count": 3,
   "metadata": {},
   "outputs": [
    {
     "name": "stderr",
     "output_type": "stream",
     "text": [
      "runTest (pcse.tests.test_abioticdamage.Test_FROSTOL) ... ok\n",
      "runTest (pcse.tests.test_partitioning.Test_DVS_Partitioning) ... ok\n",
      "runTest (pcse.tests.test_evapotranspiration.Test_PotentialEvapotranspiration) ... ok\n",
      "runTest (pcse.tests.test_evapotranspiration.Test_WaterLimitedEvapotranspiration1) ... ok\n",
      "runTest (pcse.tests.test_evapotranspiration.Test_WaterLimitedEvapotranspiration2) ... ok\n",
      "runTest (pcse.tests.test_respiration.Test_WOFOSTMaintenanceRespiration) ... ok\n",
      "runTest (pcse.tests.test_penmanmonteith.Test_PenmanMonteith1) ... ok\n",
      "runTest (pcse.tests.test_penmanmonteith.Test_PenmanMonteith2) ... ok\n",
      "runTest (pcse.tests.test_penmanmonteith.Test_PenmanMonteith3) ... ok\n",
      "runTest (pcse.tests.test_penmanmonteith.Test_PenmanMonteith4) ... ok\n",
      "runTest (pcse.tests.test_agromanager.TestAgroManager1) ... ok\n",
      "runTest (pcse.tests.test_agromanager.TestAgroManager2) ... ok\n",
      "runTest (pcse.tests.test_agromanager.TestAgroManager3) ... ok\n",
      "runTest (pcse.tests.test_agromanager.TestAgroManager4) ... ok\n",
      "runTest (pcse.tests.test_agromanager.TestAgroManager5) ... ok\n",
      "runTest (pcse.tests.test_agromanager.TestAgroManager6) ... ok\n",
      "runTest (pcse.tests.test_agromanager.TestAgroManager7) ... ok\n",
      "runTest (pcse.tests.test_agromanager.TestAgroManager8) ... ok\n",
      "runTest (pcse.tests.test_wofost72.TestWaterlimitedGrainMaize) ... ok\n",
      "runTest (pcse.tests.test_wofost72.TestPotentialWinterWheat) ... ok\n",
      "runTest (pcse.tests.test_wofost72.TestWaterlimitedWinterWheat) ... ok\n",
      "runTest (pcse.tests.test_wofost72.TestWaterlimitedPotato) ... ok\n",
      "runTest (pcse.tests.test_wofost72.TestWaterlimitedSunflower) ... ok\n",
      "runTest (pcse.tests.test_wofost72.TestPotentialSunflower) ... ok\n",
      "runTest (pcse.tests.test_wofost72.TestPotentialGrainMaize) ... ok\n",
      "runTest (pcse.tests.test_wofost72.TestPotentialSpringBarley) ... ok\n",
      "runTest (pcse.tests.test_wofost72.TestPotentialWinterRapeseed) ... ok\n",
      "runTest (pcse.tests.test_wofost72.TestPotentialPotato) ... ok\n",
      "runTest (pcse.tests.test_wofost72.TestWaterlimitedWinterRapeseed) ... ok\n",
      "runTest (pcse.tests.test_wofost72.TestWaterlimitedSpringBarley) ... ok\n",
      "\n",
      "----------------------------------------------------------------------\n",
      "Ran 30 tests in 5.307s\n",
      "\n",
      "OK\n"
     ]
    }
   ],
   "source": [
    "pcse.test()"
   ]
  },
  {
   "cell_type": "code",
   "execution_count": 6,
   "metadata": {},
   "outputs": [
    {
     "data": {
      "text/plain": [
       "{'barley': dict_keys(['Spring_barley_301']),\n",
       " 'cassava': dict_keys(['Cassava_VanHeemst_1988']),\n",
       " 'chickpea': dict_keys(['Chickpea_VanHeemst_1988']),\n",
       " 'cotton': dict_keys(['Cotton_VanHeemst_1988']),\n",
       " 'cowpea': dict_keys(['Cowpea_VanHeemst_1988']),\n",
       " 'fababean': dict_keys(['Faba_bean_801']),\n",
       " 'groundnut': dict_keys(['Groundnut_VanHeemst_1988']),\n",
       " 'maize': dict_keys(['Maize_VanHeemst_1988', 'Grain_maize_201', 'Grain_maize_202', 'Grain_maize_203', 'Grain_maize_204', 'Grain_maize_205', 'Fodder_maize_nl']),\n",
       " 'millet': dict_keys(['Millet_VanHeemst_1988']),\n",
       " 'mungbean': dict_keys(['Mungbean_VanHeemst_1988']),\n",
       " 'pigeonpea': dict_keys(['Pigeonpea_VanHeemst_1988']),\n",
       " 'potato': dict_keys(['Potato_701', 'Potato_702', 'Potato_703', 'Potato_704', 'Innovator', 'Fontane', 'Markies', 'Premiere', 'Festien']),\n",
       " 'rapeseed': dict_keys(['Oilseed_rape_1001', 'Oilseed_rape_1002', 'Oilseed_rape_1003', 'Oilseed_rape_1004']),\n",
       " 'rice': dict_keys(['Rice_501', 'Rice_HYV_IR8', 'Rice_IR64616H_DS', 'Rice_IR64616H_WS', 'Rice_IR64', 'Rice_IR72', 'Rice_IR72_DS', 'Rice_IR72_WS', 'Rice_IR8A']),\n",
       " 'sorghum': dict_keys(['Sorghum_VanHeemst_1988']),\n",
       " 'soybean': dict_keys(['Soybean_901', 'Soybean_902', 'Soybean_903', 'Soybean_904', 'Soybean_905', 'Soybean_906', 'Soybean_VanHeemst_1988']),\n",
       " 'sugarbeet': dict_keys(['Sugarbeet_601', 'Sugarbeet_602', 'Sugarbeet_603', 'Sugarbeet_604']),\n",
       " 'sugarcane': dict_keys(['Sugarcane_VanHeemst_1988']),\n",
       " 'sunflower': dict_keys(['Sunflower_1101']),\n",
       " 'sweetpotato': dict_keys(['Sweetpotato_VanHeemst_1988']),\n",
       " 'tobacco': dict_keys(['Tobacco_VanHeemst_1988']),\n",
       " 'wheat': dict_keys(['Winter_wheat_101', 'Winter_wheat_102', 'Winter_wheat_103', 'Winter_wheat_104', 'Winter_wheat_105', 'Winter_wheat_106', 'Winter_wheat_107', 'bermude', 'apache']),\n",
       " 'seed_onion': dict_keys(['onion_agriadapt'])}"
      ]
     },
     "execution_count": 6,
     "metadata": {},
     "output_type": "execute_result"
    }
   ],
   "source": [
    "copd = YAMLCropDataProvider()\n",
    "copd.get_crops_varieties()"
   ]
  },
  {
   "cell_type": "code",
   "execution_count": null,
   "metadata": {},
   "outputs": [],
   "source": []
  },
  {
   "cell_type": "code",
   "execution_count": 16,
   "metadata": {},
   "outputs": [
    {
     "name": "stdout",
     "output_type": "stream",
     "text": [
      "Weather data provided by: NASAPowerWeatherDataProvider\n",
      "--------Description---------\n",
      "NASA/POWER Source Native Resolution Daily Data\n",
      "----Site characteristics----\n",
      "Elevation:   97.3\n",
      "Latitude:  36.377\n",
      "Longitude: 140.382\n",
      "Data available for 1984-01-01 - 2025-02-16\n",
      "Number of missing days: 0\n",
      "\n",
      "[{'DVS': 2.0, 'LAIMAX': 2.661863195089612, 'TAGP': 9620.511931951347, 'TWSO': 4871.102728127787, 'TWLV': 1209.9378159498235, 'TWST': 3539.471387873736, 'TWRT': 1100.2543798282693, 'CTRAT': 19.540702993079005, 'RD': 80.0, 'DOS': datetime.date(2024, 6, 1), 'DOE': datetime.date(2024, 6, 11), 'DOA': datetime.date(2024, 8, 13), 'DOM': datetime.date(2024, 9, 25), 'DOH': datetime.date(2024, 10, 30), 'DOV': None, 'CEVST': 21.05614427560313}]\n"
     ]
    }
   ],
   "source": [
    "from pcse.models import Wofost71_PP\n",
    "from pcse.fileinput import YAMLCropDataProvider, YAMLAgroManagementReader\n",
    "from pcse.base import ParameterProvider\n",
    "from pcse.fileinput import CABOFileReader  # Correct import for site data\n",
    "\n",
    "# 作物データの読み込み（米）\n",
    "cropd = YAMLCropDataProvider(force_reload=True)\n",
    "cropd.set_active_crop('rice', 'Rice_501')\n",
    "\n",
    "# 土壌データの設定\n",
    "soild = CABOFileReader(\"../data/ec3.soil\")  # Assuming soil data is in a CABO file\n",
    "\n",
    "\n",
    "\n",
    "# from pcse.util import WOFOST72SiteDataProvider\n",
    "# sited = WOFOST72SiteDataProvider(WAV=10)\n",
    "# print(sited)\n",
    "\n",
    "# from pcse.base import ParameterProvider\n",
    "# parameters = ParameterProvider(cropdata=cropd, soildata=soild, sitedata=sited)\n",
    "\n",
    "# # 農業管理データの読み込み\n",
    "# agromanagement = YAMLAgroManagementReader(\"path_to_agromanagement.yaml\")\n",
    "from pcse.fileinput import YAMLAgroManagementReader\n",
    "agromanagement = YAMLAgroManagementReader(\"../data/rice.agro\")\n",
    "\n",
    "from pcse.input import NASAPowerWeatherDataProvider\n",
    "wdp = NASAPowerWeatherDataProvider(latitude=36.377478531000001, longitude=140.38195505900001)\n",
    "print(wdp)\n",
    "\n",
    "# モデルの初期化\n",
    "wofost = Wofost71_PP(ParameterProvider(cropdata=cropd, soildata=soild), wdp, agromanagement)\n",
    "\n",
    "# モデルの実行\n",
    "wofost.run_till_terminate()\n",
    "\n",
    "# 結果の表示\n",
    "print(wofost.get_summary_output())"
   ]
  },
  {
   "cell_type": "code",
   "execution_count": null,
   "metadata": {},
   "outputs": [],
   "source": []
  },
  {
   "cell_type": "code",
   "execution_count": 17,
   "metadata": {},
   "outputs": [],
   "source": [
    "df_results = pd.DataFrame(wofost.get_output())"
   ]
  },
  {
   "cell_type": "code",
   "execution_count": 18,
   "metadata": {},
   "outputs": [
    {
     "data": {
      "text/html": [
       "<div>\n",
       "<style scoped>\n",
       "    .dataframe tbody tr th:only-of-type {\n",
       "        vertical-align: middle;\n",
       "    }\n",
       "\n",
       "    .dataframe tbody tr th {\n",
       "        vertical-align: top;\n",
       "    }\n",
       "\n",
       "    .dataframe thead th {\n",
       "        text-align: right;\n",
       "    }\n",
       "</style>\n",
       "<table border=\"1\" class=\"dataframe\">\n",
       "  <thead>\n",
       "    <tr style=\"text-align: right;\">\n",
       "      <th></th>\n",
       "      <th>day</th>\n",
       "      <th>DVS</th>\n",
       "      <th>LAI</th>\n",
       "      <th>TAGP</th>\n",
       "      <th>TWSO</th>\n",
       "      <th>TWLV</th>\n",
       "      <th>TWST</th>\n",
       "      <th>TWRT</th>\n",
       "      <th>TRA</th>\n",
       "      <th>RD</th>\n",
       "      <th>SM</th>\n",
       "      <th>WWLOW</th>\n",
       "    </tr>\n",
       "  </thead>\n",
       "  <tbody>\n",
       "    <tr>\n",
       "      <th>147</th>\n",
       "      <td>2024-10-26</td>\n",
       "      <td>2.0</td>\n",
       "      <td>0.006102</td>\n",
       "      <td>9620.511932</td>\n",
       "      <td>4871.102728</td>\n",
       "      <td>1209.937816</td>\n",
       "      <td>3539.471388</td>\n",
       "      <td>1100.25438</td>\n",
       "      <td>0.000375</td>\n",
       "      <td>80.0</td>\n",
       "      <td>0.3</td>\n",
       "      <td>None</td>\n",
       "    </tr>\n",
       "    <tr>\n",
       "      <th>148</th>\n",
       "      <td>2024-10-27</td>\n",
       "      <td>2.0</td>\n",
       "      <td>0.000000</td>\n",
       "      <td>9620.511932</td>\n",
       "      <td>4871.102728</td>\n",
       "      <td>1209.937816</td>\n",
       "      <td>3539.471388</td>\n",
       "      <td>1100.25438</td>\n",
       "      <td>0.000000</td>\n",
       "      <td>80.0</td>\n",
       "      <td>0.3</td>\n",
       "      <td>None</td>\n",
       "    </tr>\n",
       "    <tr>\n",
       "      <th>149</th>\n",
       "      <td>2024-10-28</td>\n",
       "      <td>2.0</td>\n",
       "      <td>0.000000</td>\n",
       "      <td>9620.511932</td>\n",
       "      <td>4871.102728</td>\n",
       "      <td>1209.937816</td>\n",
       "      <td>3539.471388</td>\n",
       "      <td>1100.25438</td>\n",
       "      <td>0.000000</td>\n",
       "      <td>80.0</td>\n",
       "      <td>0.3</td>\n",
       "      <td>None</td>\n",
       "    </tr>\n",
       "    <tr>\n",
       "      <th>150</th>\n",
       "      <td>2024-10-29</td>\n",
       "      <td>2.0</td>\n",
       "      <td>0.000000</td>\n",
       "      <td>9620.511932</td>\n",
       "      <td>4871.102728</td>\n",
       "      <td>1209.937816</td>\n",
       "      <td>3539.471388</td>\n",
       "      <td>1100.25438</td>\n",
       "      <td>0.000000</td>\n",
       "      <td>80.0</td>\n",
       "      <td>0.3</td>\n",
       "      <td>None</td>\n",
       "    </tr>\n",
       "    <tr>\n",
       "      <th>151</th>\n",
       "      <td>2024-10-30</td>\n",
       "      <td>2.0</td>\n",
       "      <td>0.000000</td>\n",
       "      <td>9620.511932</td>\n",
       "      <td>4871.102728</td>\n",
       "      <td>1209.937816</td>\n",
       "      <td>3539.471388</td>\n",
       "      <td>1100.25438</td>\n",
       "      <td>0.000000</td>\n",
       "      <td>80.0</td>\n",
       "      <td>0.3</td>\n",
       "      <td>None</td>\n",
       "    </tr>\n",
       "  </tbody>\n",
       "</table>\n",
       "</div>"
      ],
      "text/plain": [
       "            day  DVS       LAI         TAGP         TWSO         TWLV  \\\n",
       "147  2024-10-26  2.0  0.006102  9620.511932  4871.102728  1209.937816   \n",
       "148  2024-10-27  2.0  0.000000  9620.511932  4871.102728  1209.937816   \n",
       "149  2024-10-28  2.0  0.000000  9620.511932  4871.102728  1209.937816   \n",
       "150  2024-10-29  2.0  0.000000  9620.511932  4871.102728  1209.937816   \n",
       "151  2024-10-30  2.0  0.000000  9620.511932  4871.102728  1209.937816   \n",
       "\n",
       "            TWST        TWRT       TRA    RD   SM WWLOW  \n",
       "147  3539.471388  1100.25438  0.000375  80.0  0.3  None  \n",
       "148  3539.471388  1100.25438  0.000000  80.0  0.3  None  \n",
       "149  3539.471388  1100.25438  0.000000  80.0  0.3  None  \n",
       "150  3539.471388  1100.25438  0.000000  80.0  0.3  None  \n",
       "151  3539.471388  1100.25438  0.000000  80.0  0.3  None  "
      ]
     },
     "execution_count": 18,
     "metadata": {},
     "output_type": "execute_result"
    }
   ],
   "source": [
    "df_results.tail()"
   ]
  },
  {
   "cell_type": "code",
   "execution_count": 15,
   "metadata": {},
   "outputs": [
    {
     "data": {
      "text/html": [
       "<div>\n",
       "<style scoped>\n",
       "    .dataframe tbody tr th:only-of-type {\n",
       "        vertical-align: middle;\n",
       "    }\n",
       "\n",
       "    .dataframe tbody tr th {\n",
       "        vertical-align: top;\n",
       "    }\n",
       "\n",
       "    .dataframe thead th {\n",
       "        text-align: right;\n",
       "    }\n",
       "</style>\n",
       "<table border=\"1\" class=\"dataframe\">\n",
       "  <thead>\n",
       "    <tr style=\"text-align: right;\">\n",
       "      <th></th>\n",
       "      <th>day</th>\n",
       "      <th>DVS</th>\n",
       "      <th>LAI</th>\n",
       "      <th>TAGP</th>\n",
       "      <th>TWSO</th>\n",
       "      <th>TWLV</th>\n",
       "      <th>TWST</th>\n",
       "      <th>TWRT</th>\n",
       "      <th>TRA</th>\n",
       "      <th>RD</th>\n",
       "      <th>SM</th>\n",
       "      <th>WWLOW</th>\n",
       "    </tr>\n",
       "  </thead>\n",
       "  <tbody>\n",
       "    <tr>\n",
       "      <th>147</th>\n",
       "      <td>2024-10-26</td>\n",
       "      <td>1.970560</td>\n",
       "      <td>1.316946</td>\n",
       "      <td>10921.486123</td>\n",
       "      <td>5436.837797</td>\n",
       "      <td>1452.497422</td>\n",
       "      <td>4032.150904</td>\n",
       "      <td>1292.868748</td>\n",
       "      <td>0.063666</td>\n",
       "      <td>80.0</td>\n",
       "      <td>0.3</td>\n",
       "      <td>None</td>\n",
       "    </tr>\n",
       "    <tr>\n",
       "      <th>148</th>\n",
       "      <td>2024-10-27</td>\n",
       "      <td>1.976176</td>\n",
       "      <td>1.215069</td>\n",
       "      <td>10956.831258</td>\n",
       "      <td>5472.182932</td>\n",
       "      <td>1452.497422</td>\n",
       "      <td>4032.150904</td>\n",
       "      <td>1292.868748</td>\n",
       "      <td>0.057655</td>\n",
       "      <td>80.0</td>\n",
       "      <td>0.3</td>\n",
       "      <td>None</td>\n",
       "    </tr>\n",
       "    <tr>\n",
       "      <th>149</th>\n",
       "      <td>2024-10-28</td>\n",
       "      <td>1.983296</td>\n",
       "      <td>1.215069</td>\n",
       "      <td>10982.443505</td>\n",
       "      <td>5497.795179</td>\n",
       "      <td>1452.497422</td>\n",
       "      <td>4032.150904</td>\n",
       "      <td>1292.868748</td>\n",
       "      <td>0.033564</td>\n",
       "      <td>80.0</td>\n",
       "      <td>0.3</td>\n",
       "      <td>None</td>\n",
       "    </tr>\n",
       "    <tr>\n",
       "      <th>150</th>\n",
       "      <td>2024-10-29</td>\n",
       "      <td>1.986240</td>\n",
       "      <td>1.109704</td>\n",
       "      <td>10982.443505</td>\n",
       "      <td>5497.795179</td>\n",
       "      <td>1452.497422</td>\n",
       "      <td>4032.150904</td>\n",
       "      <td>1292.868748</td>\n",
       "      <td>0.046579</td>\n",
       "      <td>80.0</td>\n",
       "      <td>0.3</td>\n",
       "      <td>None</td>\n",
       "    </tr>\n",
       "    <tr>\n",
       "      <th>151</th>\n",
       "      <td>2024-10-30</td>\n",
       "      <td>1.986240</td>\n",
       "      <td>1.109704</td>\n",
       "      <td>10982.443505</td>\n",
       "      <td>5497.795179</td>\n",
       "      <td>1452.497422</td>\n",
       "      <td>4032.150904</td>\n",
       "      <td>1292.868748</td>\n",
       "      <td>0.035528</td>\n",
       "      <td>80.0</td>\n",
       "      <td>0.3</td>\n",
       "      <td>None</td>\n",
       "    </tr>\n",
       "  </tbody>\n",
       "</table>\n",
       "</div>"
      ],
      "text/plain": [
       "            day       DVS       LAI          TAGP         TWSO         TWLV  \\\n",
       "147  2024-10-26  1.970560  1.316946  10921.486123  5436.837797  1452.497422   \n",
       "148  2024-10-27  1.976176  1.215069  10956.831258  5472.182932  1452.497422   \n",
       "149  2024-10-28  1.983296  1.215069  10982.443505  5497.795179  1452.497422   \n",
       "150  2024-10-29  1.986240  1.109704  10982.443505  5497.795179  1452.497422   \n",
       "151  2024-10-30  1.986240  1.109704  10982.443505  5497.795179  1452.497422   \n",
       "\n",
       "            TWST         TWRT       TRA    RD   SM WWLOW  \n",
       "147  4032.150904  1292.868748  0.063666  80.0  0.3  None  \n",
       "148  4032.150904  1292.868748  0.057655  80.0  0.3  None  \n",
       "149  4032.150904  1292.868748  0.033564  80.0  0.3  None  \n",
       "150  4032.150904  1292.868748  0.046579  80.0  0.3  None  \n",
       "151  4032.150904  1292.868748  0.035528  80.0  0.3  None  "
      ]
     },
     "execution_count": 15,
     "metadata": {},
     "output_type": "execute_result"
    }
   ],
   "source": [
    "df_results.tail()"
   ]
  },
  {
   "cell_type": "code",
   "execution_count": null,
   "metadata": {},
   "outputs": [],
   "source": []
  },
  {
   "cell_type": "code",
   "execution_count": null,
   "metadata": {},
   "outputs": [
    {
     "data": {
      "text/plain": [
       "5497.795178571584"
      ]
     },
     "execution_count": 12,
     "metadata": {},
     "output_type": "execute_result"
    }
   ],
   "source": [
    "wofost.get_output()[-1]['TWSO'] # kg/ha"
   ]
  },
  {
   "cell_type": "code",
   "execution_count": 1,
   "metadata": {},
   "outputs": [
    {
     "name": "stdout",
     "output_type": "stream",
     "text": [
      "Building PCSE demo database at: /Users/shunsei/.pcse/pcse.db ... OK\n"
     ]
    },
    {
     "ename": "ImportError",
     "evalue": "cannot import name 'NASAPowerWeatherDataProvider' from 'pcse.db' (/Users/shunsei/works/SB/cropsimulation/.venv/lib/python3.10/site-packages/pcse/db/__init__.py)",
     "output_type": "error",
     "traceback": [
      "\u001b[0;31m---------------------------------------------------------------------------\u001b[0m",
      "\u001b[0;31mImportError\u001b[0m                               Traceback (most recent call last)",
      "Cell \u001b[0;32mIn[1], line 1\u001b[0m\n\u001b[0;32m----> 1\u001b[0m \u001b[38;5;28;01mfrom\u001b[39;00m\u001b[38;5;250m \u001b[39m\u001b[38;5;21;01mpcse\u001b[39;00m\u001b[38;5;21;01m.\u001b[39;00m\u001b[38;5;21;01mdb\u001b[39;00m\u001b[38;5;250m \u001b[39m\u001b[38;5;28;01mimport\u001b[39;00m NASAPowerWeatherDataProvider\n\u001b[1;32m      3\u001b[0m \u001b[38;5;66;03m# 緯度・経度を指定（例: 東京）\u001b[39;00m\n\u001b[1;32m      4\u001b[0m weather_data \u001b[38;5;241m=\u001b[39m NASAPowerWeatherDataProvider(latitude\u001b[38;5;241m=\u001b[39m\u001b[38;5;241m35.6895\u001b[39m, longitude\u001b[38;5;241m=\u001b[39m\u001b[38;5;241m139.6917\u001b[39m)\n",
      "\u001b[0;31mImportError\u001b[0m: cannot import name 'NASAPowerWeatherDataProvider' from 'pcse.db' (/Users/shunsei/works/SB/cropsimulation/.venv/lib/python3.10/site-packages/pcse/db/__init__.py)"
     ]
    }
   ],
   "source": [
    "from pcse.db import NASAPowerWeatherDataProvider\n",
    "\n",
    "# 緯度・経度を指定（例: 東京）\n",
    "weather_data = NASAPowerWeatherDataProvider(latitude=35.6895, longitude=139.6917)\n",
    "\n",
    "# 気象データを取得して確認\n",
    "print(weather_data.export())\n"
   ]
  },
  {
   "cell_type": "code",
   "execution_count": null,
   "metadata": {},
   "outputs": [],
   "source": []
  }
 ],
 "metadata": {
  "kernelspec": {
   "display_name": ".venv",
   "language": "python",
   "name": "python3"
  },
  "language_info": {
   "codemirror_mode": {
    "name": "ipython",
    "version": 3
   },
   "file_extension": ".py",
   "mimetype": "text/x-python",
   "name": "python",
   "nbconvert_exporter": "python",
   "pygments_lexer": "ipython3",
   "version": "3.10.16"
  }
 },
 "nbformat": 4,
 "nbformat_minor": 2
}
